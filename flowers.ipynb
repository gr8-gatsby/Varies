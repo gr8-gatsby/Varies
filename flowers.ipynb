{
  "nbformat": 4,
  "nbformat_minor": 0,
  "metadata": {
    "colab": {
      "name": "flowers.ipynb",
      "provenance": [],
      "authorship_tag": "ABX9TyOT2s8m67jNK9o9StBI5Itl",
      "include_colab_link": true
    },
    "kernelspec": {
      "name": "python3",
      "display_name": "Python 3"
    },
    "language_info": {
      "name": "python"
    }
  },
  "cells": [
    {
      "cell_type": "markdown",
      "metadata": {
        "id": "view-in-github",
        "colab_type": "text"
      },
      "source": [
        "<a href=\"https://colab.research.google.com/github/gr8-gatsby/Varies/blob/main/flowers.ipynb\" target=\"_parent\"><img src=\"https://colab.research.google.com/assets/colab-badge.svg\" alt=\"Open In Colab\"/></a>"
      ]
    },
    {
      "cell_type": "code",
      "execution_count": 7,
      "metadata": {
        "id": "L2dyVbD7jxL3"
      },
      "outputs": [],
      "source": [
        "from __future__ import absolute_import, division, print_function, unicode_literals\n",
        "import tensorflow as tf\n",
        "import pandas as pd\n",
        "\n",
        "CSV_COLUMN_NAMES = ['SepalLength', 'SepalWidth', 'PetalLength', 'PetalWidth', 'Species']\n",
        "SPECIES = ['Setosa', 'Versicolor', 'Virginica']\n",
        "\n",
        "# constants\n",
        "train_path = tf.keras.utils.get_file(\n",
        "    \"iris_training.csv\", \"https://storage.googleapis.com/download.tensorflow.org/data/iris_training.csv\")\n",
        "test_path = tf.keras.utils.get_file(\n",
        "    \"iris_test.csv\", \"https://storage.googleapis.com/download.tensorflow.org/data/iris_test.csv\")\n",
        "\n",
        "train = pd.read_csv(train_path, names=CSV_COLUMN_NAMES, header=0)\n",
        "test = pd.read_csv(test_path, names=CSV_COLUMN_NAMES, header=0)\n",
        "\n",
        "train_y = train.pop('Species')\n",
        "test_y = test.pop('Species')\n",
        "\n",
        "# print(train_y.head())\n",
        "# print(train.shape)\n"
      ]
    },
    {
      "cell_type": "code",
      "source": [
        "# input function\n",
        "def input_fn(features, labels, training=True, batch_size=256):\n",
        "    # Converts the inputs to a Dataset\n",
        "    dataset = tf.data.Dataset.from_tensor_slices((dict(features), labels))\n",
        "\n",
        "    # Shuffle and repeat if you are in training mode\n",
        "    if training:\n",
        "        dataset = dataset.shuffle(1000).repeat()\n",
        "\n",
        "    return dataset.batch(batch_size)\n",
        "\n",
        "# Feature columns describe how to use the input\n",
        "my_feature_columns = []\n",
        "for key in train.keys():\n",
        "    my_feature_columns.append(tf.feature_column.numeric_column(key=key))\n",
        "\n",
        "#print(my_feature_columns)\n",
        "\n",
        "# Define a deep neural network classifier\n",
        "classifier = tf.estimator.DNNClassifier(\n",
        "    feature_columns=my_feature_columns,\n",
        "    # Two hidden layers of 30 and 10 nodes respectively\n",
        "    hidden_units=[30, 10],\n",
        "    # The model must choose between 3 classes.\n",
        "    n_classes=3)\n"
      ],
      "metadata": {
        "colab": {
          "base_uri": "https://localhost:8080/"
        },
        "id": "cegHM3Tej7E3",
        "outputId": "f99c6abf-3f60-4f3f-9b7e-3c45dc8122d0"
      },
      "execution_count": 8,
      "outputs": [
        {
          "output_type": "stream",
          "name": "stdout",
          "text": [
            "INFO:tensorflow:Using default config.\n",
            "WARNING:tensorflow:Using temporary folder as model directory: /tmp/tmp616zio4d\n",
            "INFO:tensorflow:Using config: {'_model_dir': '/tmp/tmp616zio4d', '_tf_random_seed': None, '_save_summary_steps': 100, '_save_checkpoints_steps': None, '_save_checkpoints_secs': 600, '_session_config': allow_soft_placement: true\n",
            "graph_options {\n",
            "  rewrite_options {\n",
            "    meta_optimizer_iterations: ONE\n",
            "  }\n",
            "}\n",
            ", '_keep_checkpoint_max': 5, '_keep_checkpoint_every_n_hours': 10000, '_log_step_count_steps': 100, '_train_distribute': None, '_device_fn': None, '_protocol': None, '_eval_distribute': None, '_experimental_distribute': None, '_experimental_max_worker_delay_secs': None, '_session_creation_timeout_secs': 7200, '_checkpoint_save_graph_def': True, '_service': None, '_cluster_spec': ClusterSpec({}), '_task_type': 'worker', '_task_id': 0, '_global_id_in_cluster': 0, '_master': '', '_evaluation_master': '', '_is_chief': True, '_num_ps_replicas': 0, '_num_worker_replicas': 1}\n"
          ]
        }
      ]
    },
    {
      "cell_type": "code",
      "source": [
        "# Model training\n",
        "# We include a lambda to avoid creating an inner function previously\n",
        "classifier.train(input_fn=lambda: input_fn(train, train_y, training=True), steps=5000)\n",
        "\n",
        "eval_result = classifier.evaluate(input_fn=lambda: input_fn(test, test_y, training=False))\n",
        "print('\\nTest set accuracy: {accuracy:0.3f}\\n'.format(**eval_result))\n"
      ],
      "metadata": {
        "colab": {
          "base_uri": "https://localhost:8080/"
        },
        "id": "o0yBwghBkEt3",
        "outputId": "63816c8f-4985-478e-c9fc-cd4ddf9cdcb4"
      },
      "execution_count": 9,
      "outputs": [
        {
          "output_type": "stream",
          "name": "stdout",
          "text": [
            "INFO:tensorflow:Calling model_fn.\n",
            "INFO:tensorflow:Done calling model_fn.\n",
            "INFO:tensorflow:Create CheckpointSaverHook.\n",
            "INFO:tensorflow:Graph was finalized.\n",
            "INFO:tensorflow:Running local_init_op.\n",
            "INFO:tensorflow:Done running local_init_op.\n",
            "INFO:tensorflow:Calling checkpoint listeners before saving checkpoint 0...\n",
            "INFO:tensorflow:Saving checkpoints for 0 into /tmp/tmp616zio4d/model.ckpt.\n",
            "INFO:tensorflow:Calling checkpoint listeners after saving checkpoint 0...\n",
            "INFO:tensorflow:loss = 1.4392465, step = 0\n",
            "INFO:tensorflow:global_step/sec: 175.902\n",
            "INFO:tensorflow:loss = 1.1152642, step = 100 (0.576 sec)\n",
            "INFO:tensorflow:global_step/sec: 222.105\n",
            "INFO:tensorflow:loss = 1.0714948, step = 200 (0.451 sec)\n",
            "INFO:tensorflow:global_step/sec: 219.992\n",
            "INFO:tensorflow:loss = 1.0097792, step = 300 (0.450 sec)\n",
            "INFO:tensorflow:global_step/sec: 261.772\n",
            "INFO:tensorflow:loss = 0.9848854, step = 400 (0.382 sec)\n",
            "INFO:tensorflow:global_step/sec: 253.007\n",
            "INFO:tensorflow:loss = 0.9562295, step = 500 (0.396 sec)\n",
            "INFO:tensorflow:global_step/sec: 206.757\n",
            "INFO:tensorflow:loss = 0.9167788, step = 600 (0.484 sec)\n",
            "INFO:tensorflow:global_step/sec: 251.325\n",
            "INFO:tensorflow:loss = 0.88973963, step = 700 (0.400 sec)\n",
            "INFO:tensorflow:global_step/sec: 219.359\n",
            "INFO:tensorflow:loss = 0.88372403, step = 800 (0.454 sec)\n",
            "INFO:tensorflow:global_step/sec: 211.482\n",
            "INFO:tensorflow:loss = 0.8602095, step = 900 (0.480 sec)\n",
            "INFO:tensorflow:global_step/sec: 227.977\n",
            "INFO:tensorflow:loss = 0.84585255, step = 1000 (0.437 sec)\n",
            "INFO:tensorflow:global_step/sec: 191.105\n",
            "INFO:tensorflow:loss = 0.8223522, step = 1100 (0.523 sec)\n",
            "INFO:tensorflow:global_step/sec: 153.49\n",
            "INFO:tensorflow:loss = 0.80834484, step = 1200 (0.652 sec)\n",
            "INFO:tensorflow:global_step/sec: 193.316\n",
            "INFO:tensorflow:loss = 0.7826524, step = 1300 (0.516 sec)\n",
            "INFO:tensorflow:global_step/sec: 237.117\n",
            "INFO:tensorflow:loss = 0.7756181, step = 1400 (0.416 sec)\n",
            "INFO:tensorflow:global_step/sec: 260.631\n",
            "INFO:tensorflow:loss = 0.7641649, step = 1500 (0.383 sec)\n",
            "INFO:tensorflow:global_step/sec: 186.03\n",
            "INFO:tensorflow:loss = 0.75581527, step = 1600 (0.537 sec)\n",
            "INFO:tensorflow:global_step/sec: 251.104\n",
            "INFO:tensorflow:loss = 0.7403927, step = 1700 (0.404 sec)\n",
            "INFO:tensorflow:global_step/sec: 153.718\n",
            "INFO:tensorflow:loss = 0.72413516, step = 1800 (0.649 sec)\n",
            "INFO:tensorflow:global_step/sec: 187.526\n",
            "INFO:tensorflow:loss = 0.71444434, step = 1900 (0.528 sec)\n",
            "INFO:tensorflow:global_step/sec: 239.689\n",
            "INFO:tensorflow:loss = 0.69906104, step = 2000 (0.418 sec)\n",
            "INFO:tensorflow:global_step/sec: 232.18\n",
            "INFO:tensorflow:loss = 0.6980815, step = 2100 (0.437 sec)\n",
            "INFO:tensorflow:global_step/sec: 228.175\n",
            "INFO:tensorflow:loss = 0.69391036, step = 2200 (0.437 sec)\n",
            "INFO:tensorflow:global_step/sec: 209.208\n",
            "INFO:tensorflow:loss = 0.66425014, step = 2300 (0.478 sec)\n",
            "INFO:tensorflow:global_step/sec: 140.844\n",
            "INFO:tensorflow:loss = 0.67047995, step = 2400 (0.710 sec)\n",
            "INFO:tensorflow:global_step/sec: 199.688\n",
            "INFO:tensorflow:loss = 0.64216936, step = 2500 (0.501 sec)\n",
            "INFO:tensorflow:global_step/sec: 213.339\n",
            "INFO:tensorflow:loss = 0.64524436, step = 2600 (0.470 sec)\n",
            "INFO:tensorflow:global_step/sec: 204.836\n",
            "INFO:tensorflow:loss = 0.63304645, step = 2700 (0.481 sec)\n",
            "INFO:tensorflow:global_step/sec: 222.006\n",
            "INFO:tensorflow:loss = 0.62474614, step = 2800 (0.455 sec)\n",
            "INFO:tensorflow:global_step/sec: 173.709\n",
            "INFO:tensorflow:loss = 0.6287542, step = 2900 (0.578 sec)\n",
            "INFO:tensorflow:global_step/sec: 191.829\n",
            "INFO:tensorflow:loss = 0.6100153, step = 3000 (0.519 sec)\n",
            "INFO:tensorflow:global_step/sec: 235.197\n",
            "INFO:tensorflow:loss = 0.5980406, step = 3100 (0.423 sec)\n",
            "INFO:tensorflow:global_step/sec: 254.872\n",
            "INFO:tensorflow:loss = 0.60012996, step = 3200 (0.393 sec)\n",
            "INFO:tensorflow:global_step/sec: 234.145\n",
            "INFO:tensorflow:loss = 0.58515847, step = 3300 (0.426 sec)\n",
            "INFO:tensorflow:global_step/sec: 246.069\n",
            "INFO:tensorflow:loss = 0.5847074, step = 3400 (0.407 sec)\n",
            "INFO:tensorflow:global_step/sec: 256.726\n",
            "INFO:tensorflow:loss = 0.5719671, step = 3500 (0.389 sec)\n",
            "INFO:tensorflow:global_step/sec: 207.716\n",
            "INFO:tensorflow:loss = 0.5711137, step = 3600 (0.482 sec)\n",
            "INFO:tensorflow:global_step/sec: 240.784\n",
            "INFO:tensorflow:loss = 0.55138767, step = 3700 (0.414 sec)\n",
            "INFO:tensorflow:global_step/sec: 248.717\n",
            "INFO:tensorflow:loss = 0.53892267, step = 3800 (0.401 sec)\n",
            "INFO:tensorflow:global_step/sec: 179.609\n",
            "INFO:tensorflow:loss = 0.55098736, step = 3900 (0.557 sec)\n",
            "INFO:tensorflow:global_step/sec: 156.696\n",
            "INFO:tensorflow:loss = 0.54475623, step = 4000 (0.638 sec)\n",
            "INFO:tensorflow:global_step/sec: 192.723\n",
            "INFO:tensorflow:loss = 0.5279804, step = 4100 (0.519 sec)\n",
            "INFO:tensorflow:global_step/sec: 182.257\n",
            "INFO:tensorflow:loss = 0.53506666, step = 4200 (0.549 sec)\n",
            "INFO:tensorflow:global_step/sec: 235.876\n",
            "INFO:tensorflow:loss = 0.51125276, step = 4300 (0.430 sec)\n",
            "INFO:tensorflow:global_step/sec: 203.584\n",
            "INFO:tensorflow:loss = 0.51916635, step = 4400 (0.492 sec)\n",
            "INFO:tensorflow:global_step/sec: 192.679\n",
            "INFO:tensorflow:loss = 0.5110232, step = 4500 (0.518 sec)\n",
            "INFO:tensorflow:global_step/sec: 222.889\n",
            "INFO:tensorflow:loss = 0.48138654, step = 4600 (0.443 sec)\n",
            "INFO:tensorflow:global_step/sec: 190.64\n",
            "INFO:tensorflow:loss = 0.48653352, step = 4700 (0.530 sec)\n",
            "INFO:tensorflow:global_step/sec: 229.086\n",
            "INFO:tensorflow:loss = 0.47088373, step = 4800 (0.439 sec)\n",
            "INFO:tensorflow:global_step/sec: 292.324\n",
            "INFO:tensorflow:loss = 0.47066033, step = 4900 (0.338 sec)\n",
            "INFO:tensorflow:Calling checkpoint listeners before saving checkpoint 5000...\n",
            "INFO:tensorflow:Saving checkpoints for 5000 into /tmp/tmp616zio4d/model.ckpt.\n",
            "INFO:tensorflow:Calling checkpoint listeners after saving checkpoint 5000...\n",
            "INFO:tensorflow:Loss for final step: 0.47740322.\n",
            "INFO:tensorflow:Calling model_fn.\n",
            "INFO:tensorflow:Done calling model_fn.\n",
            "INFO:tensorflow:Starting evaluation at 2022-07-07T16:57:02\n",
            "INFO:tensorflow:Graph was finalized.\n",
            "INFO:tensorflow:Restoring parameters from /tmp/tmp616zio4d/model.ckpt-5000\n",
            "INFO:tensorflow:Running local_init_op.\n",
            "INFO:tensorflow:Done running local_init_op.\n",
            "INFO:tensorflow:Inference Time : 0.27387s\n",
            "INFO:tensorflow:Finished evaluation at 2022-07-07-16:57:03\n",
            "INFO:tensorflow:Saving dict for global step 5000: accuracy = 0.76666665, average_loss = 0.54204595, global_step = 5000, loss = 0.54204595\n",
            "INFO:tensorflow:Saving 'checkpoint_path' summary for global step 5000: /tmp/tmp616zio4d/model.ckpt-5000\n",
            "\n",
            "Test set accuracy: 0.767\n",
            "\n"
          ]
        }
      ]
    },
    {
      "cell_type": "code",
      "source": [
        "def input_fn(features, batch_size=256):\n",
        "  return tf.data.Dataset.from_tensor_slices(dict(features)).batch(batch_size)\n",
        "\n",
        "features = ['SepalLength', 'SepalWidth', 'PetalLength', 'PetalWidth']\n",
        "predict = {}\n",
        "\n",
        "print('Please type numeric values as prompted:')\n",
        "for feature in features:\n",
        "  valid = True\n",
        "  while valid:\n",
        "    val = input(feature + \": \")\n",
        "    if not val.isdigit():\n",
        "      valid = False\n",
        "  predict[feature] = [float(val)]\n",
        "\n",
        "predictions = classifier.predict(input_fn=lambda: input_fn(predict))\n",
        "for pred_dict in predictions:\n",
        "  print(pred_dict)\n",
        "  class_id = pred_dict['class_ids'][0]\n",
        "  probability = pred_dict['probabilities'][class_id]\n",
        "\n",
        "  print('Prediction is \"{}\" ({:.1f}%)'.format(SPECIES[class_id], 100 * probability))"
      ],
      "metadata": {
        "colab": {
          "base_uri": "https://localhost:8080/"
        },
        "id": "-4w88z1nldND",
        "outputId": "c9b1ca68-8a67-4171-acaa-2da54e81b3c6"
      },
      "execution_count": 10,
      "outputs": [
        {
          "output_type": "stream",
          "name": "stdout",
          "text": [
            "Please type numeric values as prompted:\n",
            "SepalLength: 4.5\n",
            "SepalWidth: 4.3\n",
            "PetalLength: 3.5\n",
            "PetalWidth: 3.2\n",
            "INFO:tensorflow:Calling model_fn.\n",
            "INFO:tensorflow:Done calling model_fn.\n",
            "INFO:tensorflow:Graph was finalized.\n",
            "INFO:tensorflow:Restoring parameters from /tmp/tmp616zio4d/model.ckpt-5000\n",
            "INFO:tensorflow:Running local_init_op.\n",
            "INFO:tensorflow:Done running local_init_op.\n",
            "{'logits': array([-0.8261502,  1.1809449,  1.6048287], dtype=float32), 'probabilities': array([0.05047529, 0.37562037, 0.57390434], dtype=float32), 'class_ids': array([2]), 'classes': array([b'2'], dtype=object), 'all_class_ids': array([0, 1, 2], dtype=int32), 'all_classes': array([b'0', b'1', b'2'], dtype=object)}\n",
            "Prediction is \"Virginica\" (57.4%)\n"
          ]
        }
      ]
    },
    {
      "cell_type": "markdown",
      "source": [
        "# Model training\n",
        "# We include a lambda to avoid creating an inner function previously\n",
        "classifier.train(input_fn=lambda: input_fn(train, train_y, training=True), steps=5000)\n",
        "\n",
        "eval_result = classifier.evaluate(input_fn=lambda: input_fn(test, test_y, training=False))\n",
        "print('\\nTest set accuracy: {accuracy:0.3f}\\n'.format(**eval_result))\n",
        "\n",
        "def input_fn(features, batch_size=256):\n",
        "  return tf.data.Dataset.from_tensor_slices(dict(features)).batch(batch_size)\n",
        "\n",
        "features = ['SepalLength', 'SepalWidth', 'PetalLength', 'PetalWidth']\n",
        "predict = {}\n",
        "\n",
        "print('Please type numeric values as prompted:')\n",
        "for feature in features:\n",
        "  valid = True\n",
        "  while valid:\n",
        "    val = input(feature + \": \")\n",
        "    if not val.isdigit():\n",
        "      valid = False\n",
        "  predict[feature] = [float(val)]"
      ],
      "metadata": {
        "id": "G-yIfcCyj-wu"
      }
    }
  ]
}